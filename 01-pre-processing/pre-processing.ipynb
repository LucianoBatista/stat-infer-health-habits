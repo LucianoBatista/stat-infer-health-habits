{
 "cells": [
  {
   "cell_type": "code",
   "execution_count": 1,
   "metadata": {},
   "outputs": [],
   "source": [
    "import pandas as pd\n",
    "import seaborn as sns\n",
    "import janitor\n",
    "sns.set()"
   ]
  },
  {
   "cell_type": "code",
   "execution_count": 2,
   "metadata": {},
   "outputs": [],
   "source": [
    "# data import and standardizing var names with pyjanitor\n",
    "demo_phq = pd.read_csv(\"../data/raw/DEMO_PHQ.csv\").clean_names()\n",
    "pag_hei = pd.read_csv(\"../data/raw/PAG_HEI.csv\").clean_names()"
   ]
  },
  {
   "cell_type": "markdown",
   "metadata": {},
   "source": [
    "# Data Dictionary\n",
    "\n",
    "## DEMO_PHQ\n",
    "\n",
    "- **seqn**: unique identifier (respondent)\n",
    "- **dpq0_**: are those answers for the phq_9 form, values from 0 to 3 on each column are expected\n",
    "- **riagendr**: gender\n",
    "<span style=\"color:yellow\">\n",
    "  - 1: male\n",
    "  - 2: female\n",
    "</span>\n",
    "- **ridageyr**: age in years\n",
    "- **ridreth1**: race\n",
    "<span style=\"color:yellow\">\n",
    "  - 1: white non-hispanic\n",
    "  - 2: black non-hispanic\n",
    "  - 3: mexican-american\n",
    "  - 4: other\n",
    "  - 5: other-hispanic\n",
    "</span>\n",
    "- **dmdeduc**: schooling\n",
    "<span style=\"color:yellow\">\n",
    "  - 1: miner than 9 year\n",
    "  - 2: 9 to 12 year\n",
    "  - 3: Middle school\n",
    "  - 4: Supirior uncomplished\n",
    "  - 5: Full supirior\n",
    "  - 7: not want to answer\n",
    "  - 9: don't know\n",
    "</span>\n",
    "- **indfminc**: anual familiar revenue in US$\n",
    "<span style=\"color:yellow\">\n",
    "  - 1: 0 - 4999\n",
    "  - 2: 5000 - 9999\n",
    "  - 3: 10000 - 14999\n",
    "  - 4: 15000 - 19999\n",
    "  - 5: 20000 - 24999\n",
    "  - 6: 25000 - 34999\n",
    "  - 7: 35000 - 44999\n",
    "  - 8: 45000 - 54999\n",
    "  - 9: 55000 - 64999\n",
    "  - 10: 65000 - 74999\n",
    "  - 11: >= 75000\n",
    "  - 12: > 20000\n",
    "  - 13: < 20000\n",
    "  - 77: don't want to answer\n",
    "  - 99: don't know\n",
    "</span>\n",
    "\n",
    "\n",
    "## PAG_HEI\n",
    "\n",
    "- seqn: respondent unique identifier\n",
    "- pag_minw: weekly total of aerobic activity moderetly-vigorous in min (PAG)\n",
    "- adherence: adherence group:\n",
    "<span style=\"color:yellow\">\n",
    "  - 1: low (< 150 min/week)\n",
    "  - 2: adjusted (150 - 300 min/week)\n",
    "  - 3: up (> 300 min/week)\n",
    "</span>\n",
    "- hei2015_: health eating indexes, those ranges are:\n",
    "<span style=\"color:yellow\">\n",
    "  - 0-5: vegetables, dark green vegetables and bean, fruits, in nature fruits, proteins, sea plant and protein plant.\n",
    "  - 0-10: whole beans, dairy, fatty acid, sodium, refined grain, satured fat, add sugger\n",
    "  - 0-100: final score \n",
    "</span>"
   ]
  },
  {
   "cell_type": "markdown",
   "metadata": {},
   "source": [
    "# Data Pre-Processing"
   ]
  },
  {
   "cell_type": "code",
   "execution_count": 3,
   "metadata": {},
   "outputs": [
    {
     "name": "stdout",
     "output_type": "stream",
     "text": [
      "4090\n"
     ]
    }
   ],
   "source": [
    "pag_hei_seqn_ids = pag_hei.seqn.to_list()\n",
    "demo_phq_seqn_ids = demo_phq.seqn.to_list()\n",
    "\n",
    "# comparing lists\n",
    "pag_hei_to_demo_phq = set(pag_hei_seqn_ids) - set(demo_phq_seqn_ids)\n",
    "print(len(pag_hei_to_demo_phq))"
   ]
  },
  {
   "cell_type": "markdown",
   "metadata": {},
   "source": [
    "**Questions**: \n",
    "- Why do we have 4090 respondents that are present on HEI and not in PHQ_9?\n",
    "- How those unique identifiers are correlated to each other?"
   ]
  },
  {
   "cell_type": "markdown",
   "metadata": {},
   "source": [
    "## Merging the data\n"
   ]
  },
  {
   "cell_type": "code",
   "execution_count": 7,
   "metadata": {},
   "outputs": [],
   "source": [
    "demo_phq_pag_hei_df = pd.merge(\n",
    "    left=demo_phq, \n",
    "    right=pag_hei, \n",
    "    on=\"seqn\"\n",
    ")\n"
   ]
  },
  {
   "cell_type": "markdown",
   "metadata": {},
   "source": [
    "## Calculating the PHQ_9 index"
   ]
  },
  {
   "cell_type": "code",
   "execution_count": 46,
   "metadata": {},
   "outputs": [],
   "source": [
    "# values for phq_9 score\n",
    "phq_9_score = demo_phq_pag_hei_df.iloc[:, 1:10].sum(axis=1)\n",
    "\n",
    "df = demo_phq_pag_hei_df.add_column(\"phq_9_score\", phq_9_score)\n",
    "df[\"phq_9_score_str\"] = None\n",
    "\n",
    "# applying conditionals for each phq_9 score\n",
    "df.loc[df.phq_9_score.between(0, 4), \"phq_9_score_str\"] = \"Minimal depression\"\n",
    "df.loc[df.phq_9_score.between(5, 9), \"phq_9_score_str\"] = \"Mild depression\"\n",
    "df.loc[df.phq_9_score.between(10, 14), \"phq_9_score_str\"] = \"Moderate depression\"\n",
    "df.loc[df.phq_9_score.between(15, 19), \"phq_9_score_str\"] = \"Moderately severe depression\"\n",
    "df.loc[df.phq_9_score.between(20, 27), \"phq_9_score_str\"] = \"Severe depression\"\n",
    "\n",
    "# identifying where all the answers was missing\n",
    "rows = df.shape[0]\n",
    "rows_list = [df.iloc[r, 1:10].to_list() for r in range(rows)]\n",
    "\n",
    "# creating a mask to use as filter\n",
    "rows_bools = [all(i) for i in rows_list]\n",
    "\n",
    "df.loc[rows_bools, \"phq_9_score_str\"] = None\n"
   ]
  },
  {
   "cell_type": "markdown",
   "metadata": {},
   "source": [
    "In our dataset we saw that some respondents did not answer those questions about the phq_9, I'm assuming that we cannot assume 0 to those cases, instead we're putting a missing value on `phq_9_score_str` column. I prefer do not replace all numerical representations of categorical variables yeat, because this can be very time consuming, instead, I do that when we goes to create some visualizations on EDA."
   ]
  },
  {
   "cell_type": "code",
   "execution_count": 52,
   "metadata": {},
   "outputs": [],
   "source": [
    "# exporting the dataframe to use on EDA\n",
    "df.to_csv(\"../data/curated/demo_phq_pag_hei_cureted.csv\", index=False)"
   ]
  },
  {
   "cell_type": "code",
   "execution_count": null,
   "metadata": {},
   "outputs": [],
   "source": []
  }
 ],
 "metadata": {
  "interpreter": {
   "hash": "b6452c58b9925642b7aac57136c9c7d66503cf56a0eca800c334dd12da5bb1f3"
  },
  "kernelspec": {
   "display_name": "Python 3.9.0 64-bit ('TeraFirstChallenge-InferStats-hbnqJAWE': pipenv)",
   "name": "python3"
  },
  "language_info": {
   "codemirror_mode": {
    "name": "ipython",
    "version": 3
   },
   "file_extension": ".py",
   "mimetype": "text/x-python",
   "name": "python",
   "nbconvert_exporter": "python",
   "pygments_lexer": "ipython3",
   "version": "3.9.0"
  },
  "orig_nbformat": 4
 },
 "nbformat": 4,
 "nbformat_minor": 2
}
