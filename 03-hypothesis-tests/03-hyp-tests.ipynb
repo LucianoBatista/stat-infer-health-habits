{
 "cells": [
  {
   "cell_type": "code",
   "execution_count": 147,
   "metadata": {},
   "outputs": [],
   "source": [
    "# libraries\n",
    "import pandas as pd\n",
    "import numpy as np\n",
    "import janitor as jn\n",
    "import seaborn as sns\n",
    "import matplotlib.pyplot as plt\n",
    "\n",
    "# stats: statsmodels, scipy, bioinfokit, pingouin\n",
    "import statsmodels.api as sm\n",
    "import scipy.stats as stats\n",
    "from statsmodels.formula.api import ols\n",
    "from statsmodels.stats import weightstats as stests\n",
    "import pingouin as pg\n",
    "\n",
    "sns.set(rc={\"figure.dpi\": 150, \"savefig.dpi\": 300})\n",
    "sns.set_context(\"notebook\")\n",
    "sns.set()"
   ]
  },
  {
   "cell_type": "markdown",
   "metadata": {},
   "source": [
    "Hypothesis that I'll be testing here:\n",
    "\n",
    "- Does schoolar grades have high values on the phq_9_score?\n",
    "- low level of phisical exercises does have a higher values of phq_9_score?"
   ]
  },
  {
   "cell_type": "code",
   "execution_count": 119,
   "metadata": {},
   "outputs": [
    {
     "data": {
      "text/plain": [
       "(5019, 24)"
      ]
     },
     "execution_count": 119,
     "metadata": {},
     "output_type": "execute_result"
    }
   ],
   "source": [
    "# data\n",
    "infer_phq_pag_hei_clean = pd.read_csv(\"../data/curated/demo_phq_pag_hei_cureted_v3.csv\")\n",
    "infer_phq_pag_hei_clean.shape"
   ]
  },
  {
   "cell_type": "code",
   "execution_count": 120,
   "metadata": {},
   "outputs": [
    {
     "data": {
      "text/html": [
       "<div>\n",
       "<style scoped>\n",
       "    .dataframe tbody tr th:only-of-type {\n",
       "        vertical-align: middle;\n",
       "    }\n",
       "\n",
       "    .dataframe tbody tr th {\n",
       "        vertical-align: top;\n",
       "    }\n",
       "\n",
       "    .dataframe thead th {\n",
       "        text-align: right;\n",
       "    }\n",
       "</style>\n",
       "<table border=\"1\" class=\"dataframe\">\n",
       "  <thead>\n",
       "    <tr style=\"text-align: right;\">\n",
       "      <th></th>\n",
       "      <th>seqn</th>\n",
       "      <th>riagendr</th>\n",
       "      <th>ridageyr</th>\n",
       "      <th>ridreth1</th>\n",
       "      <th>dmdeduc</th>\n",
       "      <th>indfminc</th>\n",
       "      <th>pag_minw</th>\n",
       "      <th>adherence</th>\n",
       "      <th>hei2015c1_totalveg</th>\n",
       "      <th>hei2015c2_green_and_bean</th>\n",
       "      <th>...</th>\n",
       "      <th>hei2015c7_totprot</th>\n",
       "      <th>hei2015c8_seaplant_prot</th>\n",
       "      <th>hei2015c9_fattyacid</th>\n",
       "      <th>hei2015c10_sodium</th>\n",
       "      <th>hei2015c11_refinedgrain</th>\n",
       "      <th>hei2015c12_sfat</th>\n",
       "      <th>hei2015c13_addsug</th>\n",
       "      <th>hei2015_total_score</th>\n",
       "      <th>phq_9_score</th>\n",
       "      <th>phq_9_score_str</th>\n",
       "    </tr>\n",
       "  </thead>\n",
       "  <tbody>\n",
       "    <tr>\n",
       "      <th>0</th>\n",
       "      <td>31131</td>\n",
       "      <td>2</td>\n",
       "      <td>44</td>\n",
       "      <td>4</td>\n",
       "      <td>4</td>\n",
       "      <td>11</td>\n",
       "      <td>264.711316</td>\n",
       "      <td>2</td>\n",
       "      <td>3.115103</td>\n",
       "      <td>0.000000</td>\n",
       "      <td>...</td>\n",
       "      <td>4.071959</td>\n",
       "      <td>2.052399</td>\n",
       "      <td>0.684985</td>\n",
       "      <td>2.297100</td>\n",
       "      <td>9.512964</td>\n",
       "      <td>0.438428</td>\n",
       "      <td>3.919226</td>\n",
       "      <td>35.553899</td>\n",
       "      <td>0.0</td>\n",
       "      <td>Minimal depression</td>\n",
       "    </tr>\n",
       "    <tr>\n",
       "      <th>1</th>\n",
       "      <td>31132</td>\n",
       "      <td>1</td>\n",
       "      <td>70</td>\n",
       "      <td>3</td>\n",
       "      <td>5</td>\n",
       "      <td>11</td>\n",
       "      <td>1353.348730</td>\n",
       "      <td>3</td>\n",
       "      <td>3.509081</td>\n",
       "      <td>0.000000</td>\n",
       "      <td>...</td>\n",
       "      <td>5.000000</td>\n",
       "      <td>0.000000</td>\n",
       "      <td>2.050769</td>\n",
       "      <td>7.369489</td>\n",
       "      <td>8.887880</td>\n",
       "      <td>8.186877</td>\n",
       "      <td>9.099088</td>\n",
       "      <td>63.551696</td>\n",
       "      <td>0.0</td>\n",
       "      <td>Minimal depression</td>\n",
       "    </tr>\n",
       "    <tr>\n",
       "      <th>2</th>\n",
       "      <td>31134</td>\n",
       "      <td>1</td>\n",
       "      <td>73</td>\n",
       "      <td>3</td>\n",
       "      <td>3</td>\n",
       "      <td>12</td>\n",
       "      <td>1011.478060</td>\n",
       "      <td>3</td>\n",
       "      <td>2.845772</td>\n",
       "      <td>1.283933</td>\n",
       "      <td>...</td>\n",
       "      <td>5.000000</td>\n",
       "      <td>1.268648</td>\n",
       "      <td>2.958985</td>\n",
       "      <td>0.000000</td>\n",
       "      <td>5.627488</td>\n",
       "      <td>5.863078</td>\n",
       "      <td>5.878686</td>\n",
       "      <td>42.886826</td>\n",
       "      <td>0.0</td>\n",
       "      <td>Minimal depression</td>\n",
       "    </tr>\n",
       "    <tr>\n",
       "      <th>3</th>\n",
       "      <td>31139</td>\n",
       "      <td>2</td>\n",
       "      <td>18</td>\n",
       "      <td>2</td>\n",
       "      <td>3</td>\n",
       "      <td>11</td>\n",
       "      <td>1729.145497</td>\n",
       "      <td>3</td>\n",
       "      <td>5.000000</td>\n",
       "      <td>0.000000</td>\n",
       "      <td>...</td>\n",
       "      <td>4.088849</td>\n",
       "      <td>4.221442</td>\n",
       "      <td>10.000000</td>\n",
       "      <td>2.845774</td>\n",
       "      <td>0.000000</td>\n",
       "      <td>10.000000</td>\n",
       "      <td>9.658507</td>\n",
       "      <td>47.074393</td>\n",
       "      <td>4.0</td>\n",
       "      <td>Minimal depression</td>\n",
       "    </tr>\n",
       "    <tr>\n",
       "      <th>4</th>\n",
       "      <td>31143</td>\n",
       "      <td>1</td>\n",
       "      <td>19</td>\n",
       "      <td>3</td>\n",
       "      <td>4</td>\n",
       "      <td>11</td>\n",
       "      <td>3768.083141</td>\n",
       "      <td>3</td>\n",
       "      <td>2.867000</td>\n",
       "      <td>0.389880</td>\n",
       "      <td>...</td>\n",
       "      <td>3.372033</td>\n",
       "      <td>0.000000</td>\n",
       "      <td>0.002362</td>\n",
       "      <td>5.223435</td>\n",
       "      <td>7.787420</td>\n",
       "      <td>0.000000</td>\n",
       "      <td>10.000000</td>\n",
       "      <td>46.086131</td>\n",
       "      <td>6.0</td>\n",
       "      <td>Mild depression</td>\n",
       "    </tr>\n",
       "  </tbody>\n",
       "</table>\n",
       "<p>5 rows × 24 columns</p>\n",
       "</div>"
      ],
      "text/plain": [
       "    seqn  riagendr  ridageyr  ridreth1  dmdeduc  indfminc     pag_minw  \\\n",
       "0  31131         2        44         4        4        11   264.711316   \n",
       "1  31132         1        70         3        5        11  1353.348730   \n",
       "2  31134         1        73         3        3        12  1011.478060   \n",
       "3  31139         2        18         2        3        11  1729.145497   \n",
       "4  31143         1        19         3        4        11  3768.083141   \n",
       "\n",
       "   adherence  hei2015c1_totalveg  hei2015c2_green_and_bean  ...  \\\n",
       "0          2            3.115103                  0.000000  ...   \n",
       "1          3            3.509081                  0.000000  ...   \n",
       "2          3            2.845772                  1.283933  ...   \n",
       "3          3            5.000000                  0.000000  ...   \n",
       "4          3            2.867000                  0.389880  ...   \n",
       "\n",
       "   hei2015c7_totprot  hei2015c8_seaplant_prot  hei2015c9_fattyacid  \\\n",
       "0           4.071959                 2.052399             0.684985   \n",
       "1           5.000000                 0.000000             2.050769   \n",
       "2           5.000000                 1.268648             2.958985   \n",
       "3           4.088849                 4.221442            10.000000   \n",
       "4           3.372033                 0.000000             0.002362   \n",
       "\n",
       "   hei2015c10_sodium  hei2015c11_refinedgrain  hei2015c12_sfat  \\\n",
       "0           2.297100                 9.512964         0.438428   \n",
       "1           7.369489                 8.887880         8.186877   \n",
       "2           0.000000                 5.627488         5.863078   \n",
       "3           2.845774                 0.000000        10.000000   \n",
       "4           5.223435                 7.787420         0.000000   \n",
       "\n",
       "   hei2015c13_addsug  hei2015_total_score  phq_9_score     phq_9_score_str  \n",
       "0           3.919226            35.553899          0.0  Minimal depression  \n",
       "1           9.099088            63.551696          0.0  Minimal depression  \n",
       "2           5.878686            42.886826          0.0  Minimal depression  \n",
       "3           9.658507            47.074393          4.0  Minimal depression  \n",
       "4          10.000000            46.086131          6.0     Mild depression  \n",
       "\n",
       "[5 rows x 24 columns]"
      ]
     },
     "execution_count": 120,
     "metadata": {},
     "output_type": "execute_result"
    }
   ],
   "source": [
    "infer_phq_pag_hei_clean.head()"
   ]
  },
  {
   "cell_type": "markdown",
   "metadata": {},
   "source": [
    "Let's start with the hypothesis that females have higher levels of depression than males."
   ]
  },
  {
   "cell_type": "markdown",
   "metadata": {},
   "source": [
    "## riagendr"
   ]
  },
  {
   "cell_type": "code",
   "execution_count": 121,
   "metadata": {},
   "outputs": [
    {
     "data": {
      "text/html": [
       "<div>\n",
       "<style scoped>\n",
       "    .dataframe tbody tr th:only-of-type {\n",
       "        vertical-align: middle;\n",
       "    }\n",
       "\n",
       "    .dataframe tbody tr th {\n",
       "        vertical-align: top;\n",
       "    }\n",
       "\n",
       "    .dataframe thead th {\n",
       "        text-align: right;\n",
       "    }\n",
       "</style>\n",
       "<table border=\"1\" class=\"dataframe\">\n",
       "  <thead>\n",
       "    <tr style=\"text-align: right;\">\n",
       "      <th></th>\n",
       "      <th>riagendr</th>\n",
       "      <th>phq_9_score</th>\n",
       "    </tr>\n",
       "  </thead>\n",
       "  <tbody>\n",
       "    <tr>\n",
       "      <th>0</th>\n",
       "      <td>2</td>\n",
       "      <td>0.0</td>\n",
       "    </tr>\n",
       "    <tr>\n",
       "      <th>1</th>\n",
       "      <td>1</td>\n",
       "      <td>0.0</td>\n",
       "    </tr>\n",
       "    <tr>\n",
       "      <th>2</th>\n",
       "      <td>1</td>\n",
       "      <td>0.0</td>\n",
       "    </tr>\n",
       "    <tr>\n",
       "      <th>3</th>\n",
       "      <td>2</td>\n",
       "      <td>4.0</td>\n",
       "    </tr>\n",
       "    <tr>\n",
       "      <th>4</th>\n",
       "      <td>1</td>\n",
       "      <td>6.0</td>\n",
       "    </tr>\n",
       "  </tbody>\n",
       "</table>\n",
       "</div>"
      ],
      "text/plain": [
       "   riagendr  phq_9_score\n",
       "0         2          0.0\n",
       "1         1          0.0\n",
       "2         1          0.0\n",
       "3         2          4.0\n",
       "4         1          6.0"
      ]
     },
     "execution_count": 121,
     "metadata": {},
     "output_type": "execute_result"
    }
   ],
   "source": [
    "# lets get the data\n",
    "male_female_phq9 = infer_phq_pag_hei_clean[[\"riagendr\", \"phq_9_score\"]]\n",
    "male_female_phq9.head()"
   ]
  },
  {
   "cell_type": "code",
   "execution_count": 122,
   "metadata": {},
   "outputs": [
    {
     "data": {
      "text/plain": [
       "<AxesSubplot:>"
      ]
     },
     "execution_count": 122,
     "metadata": {},
     "output_type": "execute_result"
    },
    {
     "data": {
      "image/png": "[encoded data removed]",
      "text/plain": [
       "<Figure size 900x600 with 1 Axes>"
      ]
     },
     "metadata": {},
     "output_type": "display_data"
    }
   ],
   "source": [
    "# our phq_9_score is very skewed\n",
    "male_female_phq9[\"phq_9_score\"].hist()"
   ]
  },
  {
   "cell_type": "code",
   "execution_count": 123,
   "metadata": {},
   "outputs": [
    {
     "name": "stderr",
     "output_type": "stream",
     "text": [
      "/home/luba/.local/share/virtualenvs/TeraFirstChallenge-InferStats-hbnqJAWE/lib/python3.9/site-packages/pandas/core/arraylike.py:364: RuntimeWarning: divide by zero encountered in log\n",
      "  result = getattr(ufunc, method)(*inputs, **kwargs)\n",
      "/tmp/ipykernel_728191/1043382718.py:1: SettingWithCopyWarning: \n",
      "A value is trying to be set on a copy of a slice from a DataFrame.\n",
      "Try using .loc[row_indexer,col_indexer] = value instead\n",
      "\n",
      "See the caveats in the documentation: https://pandas.pydata.org/pandas-docs/stable/user_guide/indexing.html#returning-a-view-versus-a-copy\n",
      "  male_female_phq9[\"phq_9_score_normalized\"] = np.log(male_female_phq9.phq_9_score)\n",
      "/home/luba/.local/share/virtualenvs/TeraFirstChallenge-InferStats-hbnqJAWE/lib/python3.9/site-packages/pandas/core/frame.py:5238: SettingWithCopyWarning: \n",
      "A value is trying to be set on a copy of a slice from a DataFrame\n",
      "\n",
      "See the caveats in the documentation: https://pandas.pydata.org/pandas-docs/stable/user_guide/indexing.html#returning-a-view-versus-a-copy\n",
      "  return super().replace(\n"
     ]
    }
   ],
   "source": [
    "male_female_phq9[\"phq_9_score_normalized\"] = np.log(male_female_phq9.phq_9_score)\n",
    "male_female_phq9.replace([-np.inf], 0, inplace=True)\n",
    "# male_female_phq9[\"phq_9_score_normalized\"].hist()"
   ]
  },
  {
   "cell_type": "code",
   "execution_count": 124,
   "metadata": {},
   "outputs": [
    {
     "data": {
      "text/plain": [
       "<AxesSubplot:>"
      ]
     },
     "execution_count": 124,
     "metadata": {},
     "output_type": "execute_result"
    },
    {
     "data": {
      "image/png": "[encoded data removed]",
      "text/plain": [
       "<Figure size 900x600 with 1 Axes>"
      ]
     },
     "metadata": {},
     "output_type": "display_data"
    }
   ],
   "source": [
    "male_female_phq9[\"phq_9_score_normalized\"].hist()"
   ]
  },
  {
   "cell_type": "markdown",
   "metadata": {},
   "source": [
    "For this analysis I'll consider that we have a normal distribution and follow a Z-test to check if we have difference between those means."
   ]
  },
  {
   "cell_type": "markdown",
   "metadata": {},
   "source": [
    "Does this mean statistically significant? Lets use our male mean and check an alternative hypothesis for woman."
   ]
  },
  {
   "cell_type": "markdown",
   "metadata": {},
   "source": [
    "$\n",
    "H_{0} \\rightarrow \\mu_{male} = \\mu_{female}\\\\\n",
    "H_{a} \\rightarrow \\mu_{male} < \\mu_{female}\n",
    "$"
   ]
  },
  {
   "cell_type": "code",
   "execution_count": 144,
   "metadata": {},
   "outputs": [
    {
     "data": {
      "text/plain": [
       "0.6188636241349299"
      ]
     },
     "execution_count": 144,
     "metadata": {},
     "output_type": "execute_result"
    }
   ],
   "source": [
    "mu_male = male_female_phq9[male_female_phq9.riagendr == 1][\"phq_9_score_normalized\"].mean()\n",
    "mu_male"
   ]
  },
  {
   "cell_type": "code",
   "execution_count": 145,
   "metadata": {},
   "outputs": [
    {
     "name": "stdout",
     "output_type": "stream",
     "text": [
      "we'll descart the null hypothesis!\n"
     ]
    }
   ],
   "source": [
    "ztest, pval = stests.ztest(\n",
    "    male_female_phq9[male_female_phq9.riagendr == 2][\"phq_9_score_normalized\"].to_list(),\n",
    "    value=mu_male,\n",
    "    alternative=\"larger\",\n",
    ")\n",
    "\n",
    "# check the pval\n",
    "if pval < 0.05:\n",
    "    print(\"we'll descart the null hypothesis!\")\n",
    "else:\n",
    "    print(\"We'll descart the alternative hypothesis!\")\n"
   ]
  },
  {
   "cell_type": "markdown",
   "metadata": {},
   "source": [
    "This way, with 95% confidence that the mean of female `phq_9_score_normalized` is **greater than** the mean of male `phq_9_score_normalized`"
   ]
  },
  {
   "cell_type": "markdown",
   "metadata": {},
   "source": [
    "## indfminc"
   ]
  },
  {
   "cell_type": "markdown",
   "metadata": {},
   "source": [
    "Let's investigate the anual familiar revenue and depression score."
   ]
  },
  {
   "cell_type": "code",
   "execution_count": 167,
   "metadata": {},
   "outputs": [],
   "source": [
    "indfmic_phq_df = infer_phq_pag_hei_clean[[\"indfminc\", \"phq_9_score\"]]\n",
    "indfmic_phq_df = indfmic_phq_df[~indfmic_phq_df[\"indfminc\"].isin([12, 13, 77, 99])]"
   ]
  },
  {
   "cell_type": "markdown",
   "metadata": {},
   "source": [
    "Here we'll analyse the annual familiar salary less than 75K and greater. And see if we have a `<put the hypothesis>` "
   ]
  },
  {
   "cell_type": "code",
   "execution_count": 169,
   "metadata": {},
   "outputs": [
    {
     "name": "stderr",
     "output_type": "stream",
     "text": [
      "/tmp/ipykernel_728191/836738015.py:1: SettingWithCopyWarning: \n",
      "A value is trying to be set on a copy of a slice from a DataFrame.\n",
      "Try using .loc[row_indexer,col_indexer] = value instead\n",
      "\n",
      "See the caveats in the documentation: https://pandas.pydata.org/pandas-docs/stable/user_guide/indexing.html#returning-a-view-versus-a-copy\n",
      "  indfmic_phq_df.loc[indfmic_phq_df.indfminc < 11][\"indfminc\"] = 1\n",
      "/tmp/ipykernel_728191/836738015.py:2: SettingWithCopyWarning: \n",
      "A value is trying to be set on a copy of a slice from a DataFrame.\n",
      "Try using .loc[row_indexer,col_indexer] = value instead\n",
      "\n",
      "See the caveats in the documentation: https://pandas.pydata.org/pandas-docs/stable/user_guide/indexing.html#returning-a-view-versus-a-copy\n",
      "  indfmic_phq_df.loc[indfmic_phq_df.indfminc >= 11][\"indfminc\"] = 2\n"
     ]
    }
   ],
   "source": [
    "indfmic_phq_df.loc[indfmic_phq_df.indfminc < 11][\"indfminc\"] = 1\n",
    "indfmic_phq_df.loc[indfmic_phq_df.indfminc >= 11][\"indfminc\"] = 2"
   ]
  },
  {
   "cell_type": "code",
   "execution_count": 170,
   "metadata": {},
   "outputs": [
    {
     "data": {
      "text/html": [
       "<div>\n",
       "<style scoped>\n",
       "    .dataframe tbody tr th:only-of-type {\n",
       "        vertical-align: middle;\n",
       "    }\n",
       "\n",
       "    .dataframe tbody tr th {\n",
       "        vertical-align: top;\n",
       "    }\n",
       "\n",
       "    .dataframe thead th {\n",
       "        text-align: right;\n",
       "    }\n",
       "</style>\n",
       "<table border=\"1\" class=\"dataframe\">\n",
       "  <thead>\n",
       "    <tr style=\"text-align: right;\">\n",
       "      <th></th>\n",
       "      <th>indfminc</th>\n",
       "      <th>phq_9_score</th>\n",
       "    </tr>\n",
       "  </thead>\n",
       "  <tbody>\n",
       "    <tr>\n",
       "      <th>0</th>\n",
       "      <td>11</td>\n",
       "      <td>0.0</td>\n",
       "    </tr>\n",
       "    <tr>\n",
       "      <th>1</th>\n",
       "      <td>11</td>\n",
       "      <td>0.0</td>\n",
       "    </tr>\n",
       "    <tr>\n",
       "      <th>3</th>\n",
       "      <td>11</td>\n",
       "      <td>4.0</td>\n",
       "    </tr>\n",
       "    <tr>\n",
       "      <th>4</th>\n",
       "      <td>11</td>\n",
       "      <td>6.0</td>\n",
       "    </tr>\n",
       "    <tr>\n",
       "      <th>5</th>\n",
       "      <td>3</td>\n",
       "      <td>0.0</td>\n",
       "    </tr>\n",
       "    <tr>\n",
       "      <th>...</th>\n",
       "      <td>...</td>\n",
       "      <td>...</td>\n",
       "    </tr>\n",
       "    <tr>\n",
       "      <th>5014</th>\n",
       "      <td>3</td>\n",
       "      <td>2.0</td>\n",
       "    </tr>\n",
       "    <tr>\n",
       "      <th>5015</th>\n",
       "      <td>8</td>\n",
       "      <td>10.0</td>\n",
       "    </tr>\n",
       "    <tr>\n",
       "      <th>5016</th>\n",
       "      <td>2</td>\n",
       "      <td>2.0</td>\n",
       "    </tr>\n",
       "    <tr>\n",
       "      <th>5017</th>\n",
       "      <td>7</td>\n",
       "      <td>0.0</td>\n",
       "    </tr>\n",
       "    <tr>\n",
       "      <th>5018</th>\n",
       "      <td>6</td>\n",
       "      <td>4.0</td>\n",
       "    </tr>\n",
       "  </tbody>\n",
       "</table>\n",
       "<p>4828 rows × 2 columns</p>\n",
       "</div>"
      ],
      "text/plain": [
       "      indfminc  phq_9_score\n",
       "0           11          0.0\n",
       "1           11          0.0\n",
       "3           11          4.0\n",
       "4           11          6.0\n",
       "5            3          0.0\n",
       "...        ...          ...\n",
       "5014         3          2.0\n",
       "5015         8         10.0\n",
       "5016         2          2.0\n",
       "5017         7          0.0\n",
       "5018         6          4.0\n",
       "\n",
       "[4828 rows x 2 columns]"
      ]
     },
     "execution_count": 170,
     "metadata": {},
     "output_type": "execute_result"
    }
   ],
   "source": [
    "indfmic_phq_df"
   ]
  },
  {
   "cell_type": "code",
   "execution_count": 171,
   "metadata": {},
   "outputs": [
    {
     "name": "stderr",
     "output_type": "stream",
     "text": [
      "/home/luba/.local/share/virtualenvs/TeraFirstChallenge-InferStats-hbnqJAWE/lib/python3.9/site-packages/pandas/core/arraylike.py:364: RuntimeWarning: divide by zero encountered in log\n",
      "  result = getattr(ufunc, method)(*inputs, **kwargs)\n"
     ]
    }
   ],
   "source": [
    "indfmic_phq_df[\"phq_9_score_normalized\"] = np.log(indfmic_phq_df.phq_9_score)\n",
    "indfmic_phq_df.replace([-np.inf], 0, inplace=True)\n",
    "# male_female_phq9[\"phq_9_score_normalized\"].hist()"
   ]
  },
  {
   "cell_type": "code",
   "execution_count": 172,
   "metadata": {},
   "outputs": [
    {
     "data": {
      "text/html": [
       "<div>\n",
       "<style scoped>\n",
       "    .dataframe tbody tr th:only-of-type {\n",
       "        vertical-align: middle;\n",
       "    }\n",
       "\n",
       "    .dataframe tbody tr th {\n",
       "        vertical-align: top;\n",
       "    }\n",
       "\n",
       "    .dataframe thead th {\n",
       "        text-align: right;\n",
       "    }\n",
       "</style>\n",
       "<table border=\"1\" class=\"dataframe\">\n",
       "  <thead>\n",
       "    <tr style=\"text-align: right;\">\n",
       "      <th></th>\n",
       "      <th>indfminc</th>\n",
       "      <th>phq_9_score</th>\n",
       "      <th>phq_9_score_normalized</th>\n",
       "    </tr>\n",
       "  </thead>\n",
       "  <tbody>\n",
       "    <tr>\n",
       "      <th>0</th>\n",
       "      <td>11</td>\n",
       "      <td>0.0</td>\n",
       "      <td>0.000000</td>\n",
       "    </tr>\n",
       "    <tr>\n",
       "      <th>1</th>\n",
       "      <td>11</td>\n",
       "      <td>0.0</td>\n",
       "      <td>0.000000</td>\n",
       "    </tr>\n",
       "    <tr>\n",
       "      <th>3</th>\n",
       "      <td>11</td>\n",
       "      <td>4.0</td>\n",
       "      <td>1.386294</td>\n",
       "    </tr>\n",
       "    <tr>\n",
       "      <th>4</th>\n",
       "      <td>11</td>\n",
       "      <td>6.0</td>\n",
       "      <td>1.791759</td>\n",
       "    </tr>\n",
       "    <tr>\n",
       "      <th>5</th>\n",
       "      <td>3</td>\n",
       "      <td>0.0</td>\n",
       "      <td>0.000000</td>\n",
       "    </tr>\n",
       "    <tr>\n",
       "      <th>...</th>\n",
       "      <td>...</td>\n",
       "      <td>...</td>\n",
       "      <td>...</td>\n",
       "    </tr>\n",
       "    <tr>\n",
       "      <th>5014</th>\n",
       "      <td>3</td>\n",
       "      <td>2.0</td>\n",
       "      <td>0.693147</td>\n",
       "    </tr>\n",
       "    <tr>\n",
       "      <th>5015</th>\n",
       "      <td>8</td>\n",
       "      <td>10.0</td>\n",
       "      <td>2.302585</td>\n",
       "    </tr>\n",
       "    <tr>\n",
       "      <th>5016</th>\n",
       "      <td>2</td>\n",
       "      <td>2.0</td>\n",
       "      <td>0.693147</td>\n",
       "    </tr>\n",
       "    <tr>\n",
       "      <th>5017</th>\n",
       "      <td>7</td>\n",
       "      <td>0.0</td>\n",
       "      <td>0.000000</td>\n",
       "    </tr>\n",
       "    <tr>\n",
       "      <th>5018</th>\n",
       "      <td>6</td>\n",
       "      <td>4.0</td>\n",
       "      <td>1.386294</td>\n",
       "    </tr>\n",
       "  </tbody>\n",
       "</table>\n",
       "<p>4828 rows × 3 columns</p>\n",
       "</div>"
      ],
      "text/plain": [
       "      indfminc  phq_9_score  phq_9_score_normalized\n",
       "0           11          0.0                0.000000\n",
       "1           11          0.0                0.000000\n",
       "3           11          4.0                1.386294\n",
       "4           11          6.0                1.791759\n",
       "5            3          0.0                0.000000\n",
       "...        ...          ...                     ...\n",
       "5014         3          2.0                0.693147\n",
       "5015         8         10.0                2.302585\n",
       "5016         2          2.0                0.693147\n",
       "5017         7          0.0                0.000000\n",
       "5018         6          4.0                1.386294\n",
       "\n",
       "[4828 rows x 3 columns]"
      ]
     },
     "execution_count": 172,
     "metadata": {},
     "output_type": "execute_result"
    }
   ],
   "source": [
    "indfmic_phq_df"
   ]
  },
  {
   "cell_type": "code",
   "execution_count": 173,
   "metadata": {},
   "outputs": [
    {
     "data": {
      "text/plain": [
       "0.8338582649513436"
      ]
     },
     "execution_count": 173,
     "metadata": {},
     "output_type": "execute_result"
    }
   ],
   "source": [
    "mu_less_than_75 = indfmic_phq_df[indfmic_phq_df.indfminc == 1][\"phq_9_score_normalized\"].mean()\n",
    "mu_less_than_75"
   ]
  },
  {
   "cell_type": "code",
   "execution_count": 174,
   "metadata": {},
   "outputs": [
    {
     "name": "stdout",
     "output_type": "stream",
     "text": [
      "we'll descart the null hypothesis!\n"
     ]
    }
   ],
   "source": [
    "ztest, pval = stests.ztest(\n",
    "    indfmic_phq_df[indfmic_phq_df.indfminc == 2][\"phq_9_score_normalized\"].to_list(),\n",
    "    value=mu_less_than_75,\n",
    "    alternative=\"larger\",\n",
    ")\n",
    "\n",
    "# check the pval\n",
    "if pval < 0.05:\n",
    "    print(\"we'll descart the null hypothesis!\")\n",
    "else:\n",
    "    print(\"We'll descart the alternative hypothesis!\")\n"
   ]
  },
  {
   "cell_type": "code",
   "execution_count": 175,
   "metadata": {},
   "outputs": [
    {
     "data": {
      "text/plain": [
       "0.013039104358234067"
      ]
     },
     "execution_count": 175,
     "metadata": {},
     "output_type": "execute_result"
    }
   ],
   "source": [
    "pval"
   ]
  },
  {
   "cell_type": "markdown",
   "metadata": {},
   "source": [
    "## Health Eating Total Index"
   ]
  }
 ],
 "metadata": {
  "interpreter": {
   "hash": "b6452c58b9925642b7aac57136c9c7d66503cf56a0eca800c334dd12da5bb1f3"
  },
  "kernelspec": {
   "display_name": "Python 3.9.0 64-bit ('TeraFirstChallenge-InferStats-hbnqJAWE': pipenv)",
   "language": "python",
   "name": "python3"
  },
  "language_info": {
   "codemirror_mode": {
    "name": "ipython",
    "version": 3
   },
   "file_extension": ".py",
   "mimetype": "text/x-python",
   "name": "python",
   "nbconvert_exporter": "python",
   "pygments_lexer": "ipython3",
   "version": "3.9.0"
  },
  "orig_nbformat": 4
 },
 "nbformat": 4,
 "nbformat_minor": 2
}
