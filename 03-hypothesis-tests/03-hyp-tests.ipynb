{
 "cells": [
  {
   "cell_type": "code",
   "execution_count": 3,
   "metadata": {},
   "outputs": [],
   "source": [
    "# libraries\n",
    "import pandas as pd\n",
    "import numpy as np\n",
    "import janitor as jn\n",
    "import seaborn as sns\n",
    "import matplotlib.pyplot as plt\n",
    "# stats: statsmodels, scipy, bioinfokit, pingouin\n",
    "import statsmodels.api as sm\n",
    "import scipy.stats as stats\n",
    "from statsmodels.formula.api import ols\n",
    "\n",
    "\n",
    "sns.set(rc={\"figure.dpi\": 150, \"savefig.dpi\": 300})\n",
    "sns.set_context(\"notebook\")\n",
    "sns.set()"
   ]
  },
  {
   "cell_type": "markdown",
   "metadata": {},
   "source": [
    "Hypothesis that I'll be testing here:\n",
    "\n",
    "- Does schoolar grades have high values on the phq_9_score?\n",
    "- low level of phisical exercises does have a higher values of phq_9_score?\n",
    "- "
   ]
  },
  {
   "cell_type": "code",
   "execution_count": 11,
   "metadata": {},
   "outputs": [],
   "source": [
    "# data\n",
    "infer_phq_pag_hei_clean = pd.read_csv(\"../data/curated/demo_phq_pag_hei_cureted_v3.csv\")"
   ]
  },
  {
   "cell_type": "code",
   "execution_count": 12,
   "metadata": {},
   "outputs": [
    {
     "data": {
      "text/plain": [
       "(4702, 24)"
      ]
     },
     "execution_count": 12,
     "metadata": {},
     "output_type": "execute_result"
    }
   ],
   "source": [
    "infer_phq_pag_hei_clean.shape"
   ]
  },
  {
   "cell_type": "code",
   "execution_count": null,
   "metadata": {},
   "outputs": [],
   "source": [
    "# hypothesis test here will be an anova (to compare those groups)\n",
    "# em grupos de pessoas com baixa renda existe maior indice de depressão (severa, minima, ...) do que em alta renda?"
   ]
  },
  {
   "cell_type": "code",
   "execution_count": null,
   "metadata": {},
   "outputs": [],
   "source": [
    "# Não temos uma comprovação de um efeito causal aqui. Para isso precisaríamos mapear todas as variáveis que podem influenciar\n",
    "# na causa de depressão, e com base nisso performar um experimento específico pra isso, onde por exemplo\n",
    "# poderíamos variar um variável específica e manter todas as outras fixas, afim de chegar na causa que leva uma variável impactar\n",
    "# na depressão ou não dessa pessoa."
   ]
  },
  {
   "cell_type": "code",
   "execution_count": null,
   "metadata": {},
   "outputs": [],
   "source": [
    "# Inferência causal é um outro campo da estatística, e exige outras formas de tratamento"
   ]
  }
 ],
 "metadata": {
  "interpreter": {
   "hash": "b6452c58b9925642b7aac57136c9c7d66503cf56a0eca800c334dd12da5bb1f3"
  },
  "kernelspec": {
   "display_name": "Python 3.9.0 64-bit ('TeraFirstChallenge-InferStats-hbnqJAWE': pipenv)",
   "language": "python",
   "name": "python3"
  },
  "language_info": {
   "codemirror_mode": {
    "name": "ipython",
    "version": 3
   },
   "file_extension": ".py",
   "mimetype": "text/x-python",
   "name": "python",
   "nbconvert_exporter": "python",
   "pygments_lexer": "ipython3",
   "version": "3.9.0"
  },
  "orig_nbformat": 4
 },
 "nbformat": 4,
 "nbformat_minor": 2
}
