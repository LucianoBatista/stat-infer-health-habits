{
 "cells": [
  {
   "cell_type": "code",
   "execution_count": null,
   "metadata": {},
   "outputs": [],
   "source": []
  },
  {
   "cell_type": "markdown",
   "metadata": {},
   "source": [
    "- ensino médio e superior inclompleto normalmente apresentam maiores ocorrências de depressão\n",
    "- baixa prática de exercícios físicos apresentam algum nível de depressão\n",
    "- anuual revenue investigar abaixo dos 75k e acima dos 75k"
   ]
  },
  {
   "cell_type": "code",
   "execution_count": null,
   "metadata": {},
   "outputs": [],
   "source": [
    "# hypothesis test here will be an anova (to compare those groups)\n",
    "# em grupos de pessoas com baixa renda existe maior indice de depressão (severa, minima, ...) do que em alta renda?"
   ]
  },
  {
   "cell_type": "code",
   "execution_count": null,
   "metadata": {},
   "outputs": [],
   "source": [
    "# Não temos uma comprovação de um efeito causal aqui. Para isso precisaríamos mapear todas as variáveis que podem influenciar\n",
    "# na causa de depressão, e com base nisso performar um experimento específico pra isso, onde por exemplo\n",
    "# poderíamos variar um variável específica e manter todas as outras fixas, afim de chegar na causa que leva uma variável impactar\n",
    "# na depressão ou não dessa pessoa."
   ]
  },
  {
   "cell_type": "code",
   "execution_count": null,
   "metadata": {},
   "outputs": [],
   "source": [
    "# Inferência causal é um outro campo da estatística, e exige outras formas de tratamento"
   ]
  }
 ],
 "metadata": {
  "language_info": {
   "name": "python"
  },
  "orig_nbformat": 4
 },
 "nbformat": 4,
 "nbformat_minor": 2
}
